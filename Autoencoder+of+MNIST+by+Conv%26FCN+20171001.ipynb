{
 "cells": [
  {
   "cell_type": "markdown",
   "metadata": {},
   "source": [
    "# Autoencoder of MNIST by Conv&FCN 20171001"
   ]
  },
  {
   "cell_type": "markdown",
   "metadata": {},
   "source": [
    "## 1. Import library"
   ]
  },
  {
   "cell_type": "code",
   "execution_count": 1,
   "metadata": {},
   "outputs": [
    {
     "name": "stderr",
     "output_type": "stream",
     "text": [
      "Using TensorFlow backend.\n"
     ]
    }
   ],
   "source": [
    "import os\n",
    "import h5py\n",
    "import numpy as np\n",
    "import tensorflow as tf\n",
    "import time\n",
    "import glob\n",
    "import json\n",
    "import csv\n",
    "from PIL import Image\n",
    "import matplotlib\n",
    "import matplotlib.pyplot as plt\n",
    "import matplotlib.image as mpimg\n",
    "%matplotlib inline\n",
    "\n",
    "import keras\n",
    "from keras import applications\n",
    "from keras.preprocessing import image\n",
    "\n",
    "from keras.preprocessing.image import ImageDataGenerator, array_to_img, img_to_array, load_img\n",
    "from keras.models import Sequential\n",
    "from keras.layers import Input, UpSampling2D\n",
    "from keras.layers import Conv2D, MaxPooling2D, ZeroPadding2D,Cropping2D,BatchNormalization\n",
    "from keras.layers import Activation, Dropout, Flatten, Dense, Lambda, GlobalAveragePooling2D\n",
    "from keras.utils.np_utils import to_categorical\n",
    "from keras.models import Model\n",
    "\n",
    "from keras import backend as K"
   ]
  },
  {
   "cell_type": "markdown",
   "metadata": {},
   "source": [
    "## 2. Create autoencoder of MNIST"
   ]
  },
  {
   "cell_type": "code",
   "execution_count": 2,
   "metadata": {
    "collapsed": true
   },
   "outputs": [],
   "source": [
    "input_img = Input(shape=(28, 28, 1))  # adapt this if using `channels_first` image data format\n",
    "\n",
    "x = Conv2D(16, (3, 3), activation='relu', padding='same')(input_img)\n",
    "x = MaxPooling2D((2, 2), padding='same')(x)\n",
    "x = Conv2D(8, (3, 3), activation='relu', padding='same')(x)\n",
    "x = MaxPooling2D((2, 2), padding='same')(x)\n",
    "x = Conv2D(8, (3, 3), activation='relu', padding='same')(x)\n",
    "encoded= GlobalAveragePooling2D()(x) # This can be used as features in 2nd step\n",
    "\n",
    "x = Dense(128)(encoded)\n",
    "x = Lambda(K.reshape, arguments={'shape': (-1,4,4,8)})(x)\n",
    "\n",
    "x = Conv2D(8, (3, 3), activation='relu', padding='same')(x)\n",
    "x = UpSampling2D((2, 2))(x)\n",
    "x = Conv2D(8, (3, 3), activation='relu', padding='same')(x)\n",
    "x = UpSampling2D((2, 2))(x)\n",
    "x = Conv2D(16, (3, 3), activation='relu')(x)\n",
    "x = UpSampling2D((2, 2))(x)\n",
    "decoded = Conv2D(1, (3, 3), activation='sigmoid', padding='same')(x)\n",
    "\n",
    "autoencoder = Model(input_img, decoded)\n",
    "autoencoder.compile(optimizer='adadelta', loss='binary_crossentropy')"
   ]
  },
  {
   "cell_type": "markdown",
   "metadata": {},
   "source": [
    "## 3. Confirm the strucutre of the autoencoder"
   ]
  },
  {
   "cell_type": "code",
   "execution_count": 3,
   "metadata": {},
   "outputs": [
    {
     "name": "stdout",
     "output_type": "stream",
     "text": [
      "_________________________________________________________________\n",
      "Layer (type)                 Output Shape              Param #   \n",
      "=================================================================\n",
      "input_1 (InputLayer)         (None, 28, 28, 1)         0         \n",
      "_________________________________________________________________\n",
      "conv2d_1 (Conv2D)            (None, 28, 28, 16)        160       \n",
      "_________________________________________________________________\n",
      "max_pooling2d_1 (MaxPooling2 (None, 14, 14, 16)        0         \n",
      "_________________________________________________________________\n",
      "conv2d_2 (Conv2D)            (None, 14, 14, 8)         1160      \n",
      "_________________________________________________________________\n",
      "max_pooling2d_2 (MaxPooling2 (None, 7, 7, 8)           0         \n",
      "_________________________________________________________________\n",
      "conv2d_3 (Conv2D)            (None, 7, 7, 8)           584       \n",
      "_________________________________________________________________\n",
      "global_average_pooling2d_1 ( (None, 8)                 0         \n",
      "_________________________________________________________________\n",
      "dense_1 (Dense)              (None, 128)               1152      \n",
      "_________________________________________________________________\n",
      "lambda_1 (Lambda)            (None, 4, 4, 8)           0         \n",
      "_________________________________________________________________\n",
      "conv2d_4 (Conv2D)            (None, 4, 4, 8)           584       \n",
      "_________________________________________________________________\n",
      "up_sampling2d_1 (UpSampling2 (None, 8, 8, 8)           0         \n",
      "_________________________________________________________________\n",
      "conv2d_5 (Conv2D)            (None, 8, 8, 8)           584       \n",
      "_________________________________________________________________\n",
      "up_sampling2d_2 (UpSampling2 (None, 16, 16, 8)         0         \n",
      "_________________________________________________________________\n",
      "conv2d_6 (Conv2D)            (None, 14, 14, 16)        1168      \n",
      "_________________________________________________________________\n",
      "up_sampling2d_3 (UpSampling2 (None, 28, 28, 16)        0         \n",
      "_________________________________________________________________\n",
      "conv2d_7 (Conv2D)            (None, 28, 28, 1)         145       \n",
      "=================================================================\n",
      "Total params: 5,537\n",
      "Trainable params: 5,537\n",
      "Non-trainable params: 0\n",
      "_________________________________________________________________\n"
     ]
    }
   ],
   "source": [
    "autoencoder.summary()"
   ]
  },
  {
   "cell_type": "markdown",
   "metadata": {},
   "source": [
    "## 4. Import MNIST data"
   ]
  },
  {
   "cell_type": "code",
   "execution_count": 4,
   "metadata": {
    "collapsed": true
   },
   "outputs": [],
   "source": [
    "from keras.datasets import mnist\n",
    "\n",
    "(x_train, _), (x_test, _) = mnist.load_data()\n",
    "\n",
    "x_train = x_train.astype('float32') / 255.\n",
    "x_test = x_test.astype('float32') / 255.\n",
    "x_train = np.reshape(x_train, (len(x_train), 28, 28, 1))  # adapt this if using `channels_first` image data format\n",
    "x_test = np.reshape(x_test, (len(x_test), 28, 28, 1))  # adapt this if using `channels_first` image data format"
   ]
  },
  {
   "cell_type": "markdown",
   "metadata": {},
   "source": [
    "## 5. Train the autoencoder"
   ]
  },
  {
   "cell_type": "code",
   "execution_count": 6,
   "metadata": {},
   "outputs": [
    {
     "name": "stdout",
     "output_type": "stream",
     "text": [
      "Train on 60000 samples, validate on 10000 samples\n",
      "Epoch 1/25\n",
      "60000/60000 [==============================] - 145s - loss: 0.2377 - val_loss: 0.2359\n",
      "Epoch 2/25\n",
      "60000/60000 [==============================] - 148s - loss: 0.2177 - val_loss: 0.2186\n",
      "Epoch 3/25\n",
      "60000/60000 [==============================] - 147s - loss: 0.2043 - val_loss: 0.1987\n",
      "Epoch 4/25\n",
      "60000/60000 [==============================] - 148s - loss: 0.1961 - val_loss: 0.1911\n",
      "Epoch 5/25\n",
      "60000/60000 [==============================] - 146s - loss: 0.1917 - val_loss: 0.1893\n",
      "Epoch 6/25\n",
      "60000/60000 [==============================] - 141s - loss: 0.1888 - val_loss: 0.1868\n",
      "Epoch 7/25\n",
      "60000/60000 [==============================] - 147s - loss: 0.1864 - val_loss: 0.1854\n",
      "Epoch 8/25\n",
      "60000/60000 [==============================] - 147s - loss: 0.1848 - val_loss: 0.1825\n",
      "Epoch 9/25\n",
      "60000/60000 [==============================] - 147s - loss: 0.1833 - val_loss: 0.1833\n",
      "Epoch 10/25\n",
      "60000/60000 [==============================] - 150s - loss: 0.1821 - val_loss: 0.1813\n",
      "Epoch 11/25\n",
      "60000/60000 [==============================] - 149s - loss: 0.1811 - val_loss: 0.1836\n",
      "Epoch 12/25\n",
      "60000/60000 [==============================] - 136s - loss: 0.1803 - val_loss: 0.1769\n",
      "Epoch 13/25\n",
      "60000/60000 [==============================] - 137s - loss: 0.1792 - val_loss: 0.1790\n",
      "Epoch 14/25\n",
      "60000/60000 [==============================] - 130s - loss: 0.1781 - val_loss: 0.1791\n",
      "Epoch 15/25\n",
      "60000/60000 [==============================] - 129s - loss: 0.1774 - val_loss: 0.1779\n",
      "Epoch 16/25\n",
      "60000/60000 [==============================] - 130s - loss: 0.1764 - val_loss: 0.1752\n",
      "Epoch 17/25\n",
      "60000/60000 [==============================] - 131s - loss: 0.1753 - val_loss: 0.1748\n",
      "Epoch 18/25\n",
      "60000/60000 [==============================] - 132s - loss: 0.1746 - val_loss: 0.1721\n",
      "Epoch 19/25\n",
      "60000/60000 [==============================] - 130s - loss: 0.1739 - val_loss: 0.1735\n",
      "Epoch 20/25\n",
      "60000/60000 [==============================] - 129s - loss: 0.1728 - val_loss: 0.1734\n",
      "Epoch 21/25\n",
      "60000/60000 [==============================] - 130s - loss: 0.1721 - val_loss: 0.1720\n",
      "Epoch 22/25\n",
      "60000/60000 [==============================] - 130s - loss: 0.1711 - val_loss: 0.1707\n",
      "Epoch 23/25\n",
      "60000/60000 [==============================] - 130s - loss: 0.1705 - val_loss: 0.1694\n",
      "Epoch 24/25\n",
      "60000/60000 [==============================] - 130s - loss: 0.1694 - val_loss: 0.1660\n",
      "Epoch 25/25\n",
      "60000/60000 [==============================] - 130s - loss: 0.1688 - val_loss: 0.1675\n",
      "3462.56846 Seconds to predict\n"
     ]
    },
    {
     "data": {
      "image/png": "[encoded data removed]",
      "text/plain": [
       "<matplotlib.figure.Figure at 0x12b16b550>"
      ]
     },
     "metadata": {},
     "output_type": "display_data"
    }
   ],
   "source": [
    "t=time.time() \n",
    "\n",
    "history=autoencoder.fit(x_train, x_train,\n",
    "                epochs=25,\n",
    "                batch_size=128,\n",
    "                shuffle=True,\n",
    "                validation_data=(x_test, x_test),\n",
    "               )\n",
    "\n",
    "\n",
    "t2 = time.time()\n",
    "print(round(t2-t, 5), 'Seconds to predict')\n",
    "\n",
    "plt.plot(history.history['loss'])\n",
    "plt.plot(history.history['val_loss'])\n",
    "plt.title('model loss')\n",
    "plt.xlabel('epoch')\n",
    "plt.ylabel('loss')\n",
    "plt.legend(['loss', 'val_loss'], loc='upper right')\n",
    "plt.show()\n"
   ]
  },
  {
   "cell_type": "markdown",
   "metadata": {},
   "source": [
    "## 6. Look at how the autoencoder can recover images"
   ]
  },
  {
   "cell_type": "code",
   "execution_count": 7,
   "metadata": {},
   "outputs": [
    {
     "data": {
      "image/png": "[encoded data removed]",
      "text/plain": [
       "<matplotlib.figure.Figure at 0x12b2925f8>"
      ]
     },
     "metadata": {},
     "output_type": "display_data"
    }
   ],
   "source": [
    "decoded_imgs = autoencoder.predict(x_test)\n",
    "\n",
    "n = 10  # how many digits we will display\n",
    "plt.figure(figsize=(20, 4))\n",
    "for i in range(n):\n",
    "    # display original\n",
    "    ax = plt.subplot(2, n, i + 1)\n",
    "    plt.imshow(x_test[i].reshape(28, 28))\n",
    "    plt.gray()\n",
    "    ax.get_xaxis().set_visible(False)\n",
    "    ax.get_yaxis().set_visible(False)\n",
    "\n",
    "    # display reconstruction\n",
    "    ax = plt.subplot(2, n, i + 1 + n)\n",
    "    plt.imshow(decoded_imgs[i].reshape(28, 28))\n",
    "    plt.gray()\n",
    "    ax.get_xaxis().set_visible(False)\n",
    "    ax.get_yaxis().set_visible(False)\n",
    "plt.show()"
   ]
  },
  {
   "cell_type": "markdown",
   "metadata": {},
   "source": [
    "The idea of these code is inspired by this awesome work\n",
    "      # \"Building autoencoders in Keras\" (by Mr.François Chollet)            \n",
    "          # https://blog.keras.io/building-autoencoders-in-keras.html\n",
    "                   \n",
    "\n",
    "TOSHI STATS SDN. BHD. and I do not accept any responsibility or liability for loss or damage occasioned to any person or property through using materials, instructions, methods, algorithm or ideas contained herein, or acting or refraining from acting as a result of such use. TOSHI STATS SDN. BHD. and I expressly disclaim all implied warranties, including merchantability or fitness for any particular purpose. There will be no duty on TOSHI STATS SDN. BHD. and me to correct any errors or defects in the codes and the software.                    "
   ]
  }
 ],
 "metadata": {
  "kernelspec": {
   "display_name": "Python 3",
   "language": "python",
   "name": "python3"
  },
  "language_info": {
   "codemirror_mode": {
    "name": "ipython",
    "version": 3
   },
   "file_extension": ".py",
   "mimetype": "text/x-python",
   "name": "python",
   "nbconvert_exporter": "python",
   "pygments_lexer": "ipython3",
   "version": "3.6.1"
  }
 },
 "nbformat": 4,
 "nbformat_minor": 2
}
